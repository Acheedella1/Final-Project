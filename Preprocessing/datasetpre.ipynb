{
 "cells": [
  {
   "cell_type": "code",
   "execution_count": 2,
   "metadata": {},
   "outputs": [
    {
     "name": "stdout",
     "output_type": "stream",
     "text": [
      "{'uci_id': 14, 'name': 'Breast Cancer', 'repository_url': 'https://archive.ics.uci.edu/dataset/14/breast+cancer', 'data_url': 'https://archive.ics.uci.edu/static/public/14/data.csv', 'abstract': 'This breast cancer domain was obtained from the University Medical Centre, Institute of Oncology, Ljubljana, Yugoslavia. This is one of three domains provided by the Oncology Institute that has repeatedly appeared in the machine learning literature. (See also lymphography and primary-tumor.)', 'area': 'Health and Medicine', 'tasks': ['Classification'], 'characteristics': ['Multivariate'], 'num_instances': 286, 'num_features': 9, 'feature_types': ['Categorical'], 'demographics': ['Age'], 'target_col': ['Class'], 'index_col': None, 'has_missing_values': 'yes', 'missing_values_symbol': 'NaN', 'year_of_dataset_creation': 1988, 'last_updated': 'Thu Mar 07 2024', 'dataset_doi': '10.24432/C51P4M', 'creators': ['Matjaz Zwitter', 'Milan Soklic'], 'intro_paper': None, 'additional_info': {'summary': 'This data set includes 201 instances of one class and 85 instances of another class.  The instances are described by 9 attributes, some of which are linear and some are nominal.\\n', 'purpose': None, 'funded_by': None, 'instances_represent': None, 'recommended_data_splits': None, 'sensitive_data': None, 'preprocessing_description': None, 'variable_info': '   1. Class: no-recurrence-events, recurrence-events\\r\\n   2. age: 10-19, 20-29, 30-39, 40-49, 50-59, 60-69, 70-79, 80-89, 90-99.\\r\\n   3. menopause: lt40, ge40, premeno.\\r\\n   4. tumor-size: 0-4, 5-9, 10-14, 15-19, 20-24, 25-29, 30-34, 35-39, 40-44, 45-49, 50-54, 55-59.\\r\\n   5. inv-nodes: 0-2, 3-5, 6-8, 9-11, 12-14, 15-17, 18-20, 21-23, 24-26, 27-29, 30-32, 33-35, 36-39.\\r\\n   6. node-caps: yes, no.\\r\\n   7. deg-malig: 1, 2, 3.\\r\\n   8. breast: left, right.\\r\\n   9. breast-quad: left-up, left-low, right-up,\\tright-low, central.\\r\\n  10. irradiat:\\tyes, no.', 'citation': 'Obtained from the University Medical Centre, Institute of Oncology, Ljubljana, Yugoslavia.  Thanks go to M. Zwitter and M. Soklic for providing the data.  Please include this citation if you plan to use this database:\\nMatjaz Zwitter & Milan Soklic (physicians)\\nInstitute of Oncology \\nUniversity Medical Center\\nLjubljana, Yugoslavia'}}\n",
      "          name     role         type demographic  \\\n",
      "0        Class   Target       Binary        None   \n",
      "1          age  Feature  Categorical         Age   \n",
      "2    menopause  Feature  Categorical        None   \n",
      "3   tumor-size  Feature  Categorical        None   \n",
      "4    inv-nodes  Feature  Categorical        None   \n",
      "5    node-caps  Feature       Binary        None   \n",
      "6    deg-malig  Feature      Integer        None   \n",
      "7       breast  Feature       Binary        None   \n",
      "8  breast-quad  Feature  Categorical        None   \n",
      "9     irradiat  Feature       Binary        None   \n",
      "\n",
      "                                         description  units missing_values  \n",
      "0            no-recurrence-events, recurrence-events   None             no  \n",
      "1  10-19, 20-29, 30-39, 40-49, 50-59, 60-69, 70-7...  years             no  \n",
      "2                                lt40, ge40, premeno   None             no  \n",
      "3  0-4, 5-9, 10-14, 15-19, 20-24, 25-29, 30-34, 3...   None             no  \n",
      "4   0-2, 3-5, 6-8, 9-11, 12-14, 15-17, 18-20, 21-...   None             no  \n",
      "5                                            yes, no   None            yes  \n",
      "6                                            1, 2, 3   None             no  \n",
      "7                                        left, right   None             no  \n",
      "8   left-up, left-low, right-up,\\tright-low, central   None            yes  \n",
      "9                                            yes, no   None             no  \n"
     ]
    }
   ],
   "source": [
    "from ucimlrepo import fetch_ucirepo \n",
    "breast_cancer = fetch_ucirepo(id=14) \n",
    "X = breast_cancer.data.features \n",
    "y = breast_cancer.data.targets \n",
    "print(breast_cancer.metadata) \n",
    "print(breast_cancer.variables) "
   ]
  }
 ],
 "metadata": {
  "kernelspec": {
   "display_name": "Python 3",
   "language": "python",
   "name": "python3"
  },
  "language_info": {
   "codemirror_mode": {
    "name": "ipython",
    "version": 3
   },
   "file_extension": ".py",
   "mimetype": "text/x-python",
   "name": "python",
   "nbconvert_exporter": "python",
   "pygments_lexer": "ipython3",
   "version": "3.9.1"
  }
 },
 "nbformat": 4,
 "nbformat_minor": 2
}
