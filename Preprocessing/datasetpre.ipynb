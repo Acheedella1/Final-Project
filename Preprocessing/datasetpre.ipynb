{
 "cells": [
  {
   "cell_type": "code",
   "execution_count": 7,
   "metadata": {},
   "outputs": [],
   "source": [
    "from ucimlrepo import fetch_ucirepo\n",
    "from sklearn.model_selection import train_test_split\n",
    "from sklearn.metrics import precision_score\n",
    "from sklearn.pipeline import make_pipeline\n",
    "from sklearn.preprocessing import StandardScaler\n",
    "from sklearn.svm import OneClassSVM\n",
    "import pandas as pd\n",
    "import numpy as np\n",
    "breast_cancer = fetch_ucirepo(id=14)  \n",
    "X = pd.DataFrame(breast_cancer.data.features, columns=breast_cancer.data.feature_names)\n",
    "y = pd.Series(breast_cancer.data.targets.squeeze(), name='Outcome')\n",
    "columns_to_one_hot = [col for col in X.columns if X[col].dtype == 'object']\n",
    "X = pd.get_dummies(X, columns=columns_to_one_hot)\n",
    "X_train, X_test, y_train, y_test = train_test_split(X, y, test_size=0.3, random_state=42)\n",
    "X_encoded = pd.get_dummies(X)\n",
    "#change from bool to 1 and 2 without independently mapping everything.\n",
    "bool_columns = X_encoded.select_dtypes(include=['bool']).columns\n",
    "for col in bool_columns:\n",
    "    X_encoded[col] = X_encoded[col].map({False: 1, True: 2})\n"
   ]
  }
 ],
 "metadata": {
  "kernelspec": {
   "display_name": "Python 3",
   "language": "python",
   "name": "python3"
  },
  "language_info": {
   "codemirror_mode": {
    "name": "ipython",
    "version": 3
   },
   "file_extension": ".py",
   "mimetype": "text/x-python",
   "name": "python",
   "nbconvert_exporter": "python",
   "pygments_lexer": "ipython3",
   "version": "3.9.1"
  }
 },
 "nbformat": 4,
 "nbformat_minor": 2
}
